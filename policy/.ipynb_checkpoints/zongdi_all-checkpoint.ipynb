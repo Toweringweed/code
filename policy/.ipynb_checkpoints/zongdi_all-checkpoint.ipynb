{
 "cells": [
  {
   "cell_type": "code",
   "execution_count": 4,
   "metadata": {
    "ExecuteTime": {
     "end_time": "2019-02-13T02:52:38.537567Z",
     "start_time": "2019-02-13T02:52:20.848392Z"
    },
    "scrolled": true
   },
   "outputs": [
    {
     "name": "stdout",
     "output_type": "stream",
     "text": [
      "<class 'pandas.core.frame.DataFrame'>\n",
      "RangeIndex: 36978 entries, 0 to 36977\n",
      "Data columns (total 22 columns):\n",
      "id         36978 non-null int64\n",
      "合同号        36972 non-null object\n",
      "合同字号       36883 non-null object\n",
      "供应方式       36415 non-null object\n",
      "宗地代码       27276 non-null object\n",
      "宗地号        35558 non-null object\n",
      "出让方名称      32405 non-null object\n",
      "土地用途       35532 non-null object\n",
      "签订日期       36125 non-null object\n",
      "用地面积       36978 non-null float64\n",
      "使用年限       36952 non-null float64\n",
      "开工日期       2610 non-null object\n",
      "竣工日期       12597 non-null object\n",
      "用地项目名称     4680 non-null object\n",
      "无用地方案原因    2973 non-null object\n",
      "建筑面积说明     9515 non-null object\n",
      "建筑覆盖率      9916 non-null object\n",
      "容积率        10651 non-null object\n",
      "建筑层数       9876 non-null object\n",
      "建筑面积       3422 non-null float64\n",
      "退红线要求      9480 non-null object\n",
      "主体建筑物性质    9966 non-null object\n",
      "dtypes: float64(3), int64(1), object(18)\n",
      "memory usage: 6.2+ MB\n"
     ]
    }
   ],
   "source": [
    "import numpy as np\n",
    "import pandas as pd\n",
    "import re\n",
    "from datetime import datetime\n",
    "\n",
    "np.set_printoptions(threshold=100000)\n",
    "pd.options.display.max_rows = 500\n",
    "pd.options.display.max_columns = 100\n",
    "pd.set_option('expand_frame_repr', False)\n",
    "\n",
    "df = pd.read_excel(r'd:/workspace/土地供应-总.xlsx')\n",
    "\n",
    "df.drop(inplace=True, columns=['土地性质', '土地用途.1'], axis=1)\n",
    "df.info()\n",
    "\n",
    "\n",
    "df['dup'] = df.duplicated(['合同号', '合同字号', '宗地号', '签订日期', '土地用途', '用地面积', '建筑面积说明', '容积率'], keep=False)\n",
    "df2 = df.loc[df.dup==True]\n",
    "df2.to_excel(r'd:/workspace/output/土地供应-总-dup.xlsx')\n",
    "\n",
    "df.drop_duplicates(inplace=True, keep='first',\n",
    "    subset=['合同号', '合同字号', '宗地号', '签订日期', '土地用途', '用地面积', '建筑面积说明', '容积率'])\n",
    "df.to_excel(r'd:/workspace/output/土地供应-总-nodup.xlsx')\n"
   ]
  },
  {
   "cell_type": "code",
   "execution_count": 6,
   "metadata": {
    "ExecuteTime": {
     "end_time": "2019-02-13T02:55:33.978110Z",
     "start_time": "2019-02-13T02:55:19.771668Z"
    }
   },
   "outputs": [],
   "source": [
    "# 普通获得数字\n",
    "def get_num2(con):\n",
    "    p_num = re.findall(re.compile('(\\d+(\\.\\d+)?)'), con)\n",
    "    num = 0\n",
    "    if p_num:\n",
    "        if len(p_num) > 1:\n",
    "            pp = [i[0] for i in p_num]\n",
    "            num = max(pp)\n",
    "        else:\n",
    "            num = p_num[0][0]\n",
    "    return num\n",
    "\n",
    "# 获得数字，适用于小数点前没有数字的情况\n",
    "def get_num(con):\n",
    "    p = '(\\d+)'\n",
    "    p_num = 0\n",
    "    if '.' in con:\n",
    "        con = con.split('.', 1)\n",
    "        p_num1 = re.findall(re.compile(p), con[0])\n",
    "        p_num2 = re.findall(re.compile(p), con[1])\n",
    "        if p_num2:\n",
    "            if p_num1:\n",
    "                p_num = (p_num1[0]) + '.' + (p_num2[0])\n",
    "            else:\n",
    "                p_num = '0' + '.' + (p_num2[0])\n",
    "    else:\n",
    "        p_num = re.findall(re.compile(p), con)\n",
    "        p_num = p_num[0] if p_num else 0\n",
    "    return float(p_num)\n",
    "\n",
    "def clean_str(con):\n",
    "    p_list = [' ', '-', '―', '/', '≤', '=', '<', '≤', '〈', '＜', '《', '>', '≤']\n",
    "    for i in p_list:\n",
    "        con = con.replace(i, '')\n",
    "    return con\n",
    "\n",
    "# 计算容积率\n",
    "def get_plot(tu, jian, plot):\n",
    "    if (float(jian) > 0) & (float(plot) == 0):\n",
    "        plot = float(jian)/float(tu)\n",
    "    return plot\n",
    "\n",
    "# 计算建筑面积\n",
    "def get_jian(tu, jian, plot):\n",
    "    if (float(jian) == 0) &  (float(plot) > 0):\n",
    "        jian = float(tu)/float(plot)\n",
    "    return jian\n",
    "\n",
    "# 计算容积率差值\n",
    "def plot_increment(plot0, plot1):\n",
    "    z = None\n",
    "    if (float(plot0) != 0) & (float(plot1) != 0):\n",
    "        z = float(plot1) - float(plot0)\n",
    "    return z\n",
    "\n",
    "df['plot_ratio'] = df['容积率'].map(lambda x: get_num(str(x)))  \n",
    "df['建筑面积'].fillna(0, inplace=True)\n",
    "df.to_excel(r'd:/workspace/output/土地供应-总-清理容积率.xlsx')\n"
   ]
  },
  {
   "cell_type": "code",
   "execution_count": 9,
   "metadata": {
    "ExecuteTime": {
     "end_time": "2019-02-13T06:18:22.923284Z",
     "start_time": "2019-02-13T06:17:55.744908Z"
    }
   },
   "outputs": [],
   "source": [
    "df = pd.read_excel(r'd:/workspace/output/土地供应-总-清理容积率.xlsx')\n",
    "\n",
    "df['plot_ratio'] = df.apply(lambda x: get_plot(x.用地面积, x.建筑面积, x.plot_ratio), axis=1)\n",
    "df['建筑面积'] = df.apply(lambda x: get_jian(x.用地面积, x.建筑面积, x.plot_ratio), axis=1)                            \n",
    "\n",
    "df['合同字号_temp'] = df['合同字号'].map(lambda x: str(x).replace('合', 'A'))\n",
    "df = df.sort_values(by=['宗地号', '合同字号_temp', '签订日期'])\n",
    "df.reset_index(drop=True, inplace=True)\n",
    "\n",
    "df.head(10)\n",
    "df['plot_0'] = df['plot_1']  = df['plot_ratio']\n",
    "\n",
    "for index, rows in df.iterrows():\n",
    "    index = int(index)\n",
    "    if index >= 1:\n",
    "        if df.at[index, '宗地号']:\n",
    "            if (df.at[index, '宗地号'] == df.at[index-1, '宗地号'])& (len(str(df.at[index, '宗地号'])) >=4):\n",
    "                if df.at[index, 'plot_ratio'] == 0:\n",
    "                    df.at[index, 'plot_ratio'] = df.at[index-1, 'plot_ratio']     \n",
    "                if float(df.at[index, 'plot_ratio']) > 0:\n",
    "                    df.at[index-1, 'plot_1'] = df.at[index, 'plot_1'] =df.at[index, 'plot_ratio']\n",
    "                if float(df.at[index-1, 'plot_ratio']) > 0:      \n",
    "                    df.at[index-1, 'plot_0'] = df.at[index, 'plot_0'] = df.at[index-1, 'plot_ratio']\n",
    "                 \n",
    "df['提容'] = df.apply(lambda x: plot_increment(x.plot_0, x.plot_1), axis=1)\n",
    "\n",
    "df.to_excel(r'd:/workspace/output/土地供应-总-temp6.xlsx')\n",
    "\n",
    "# dfx = pd.pivot_table(df, index=['宗地号'], values=['plot_ratio'], aggfunc=[np.max, np.min])\n",
    "# dfx.info()\n",
    "# dfx.to_excel(r'd:/workspace/output/土地供应-总-process.xlsx')\n",
    "\n"
   ]
  },
  {
   "cell_type": "code",
   "execution_count": 20,
   "metadata": {
    "ExecuteTime": {
     "end_time": "2019-01-31T03:37:46.095680Z",
     "start_time": "2019-01-31T03:37:43.668907Z"
    }
   },
   "outputs": [],
   "source": [
    "def reduce(x, y):\n",
    "    x = float(x)\n",
    "    y = float(y)\n",
    "    z = x-y\n",
    "    return z\n",
    "dfx = pd.read_excel(r'd:/workspace/output/土地供应-总-process.xlsx')\n",
    "dfx.head()\n",
    "dfx = dfx[2:]\n",
    "dfx.head()\n",
    "dfx['提容'] = dfx.apply(lambda x: reduce(x.amax, x.amin), axis=1)\n",
    "dfx.head()\n",
    "dfx.to_excel(r'd:/workspace/output/土地供应-总-temp1.xlsx')"
   ]
  }
 ],
 "metadata": {
  "kernelspec": {
   "display_name": "Python 3",
   "language": "python",
   "name": "python3"
  },
  "language_info": {
   "codemirror_mode": {
    "name": "ipython",
    "version": 3
   },
   "file_extension": ".py",
   "mimetype": "text/x-python",
   "name": "python",
   "nbconvert_exporter": "python",
   "pygments_lexer": "ipython3",
   "version": "3.6.5"
  },
  "toc": {
   "base_numbering": 1,
   "nav_menu": {},
   "number_sections": true,
   "sideBar": true,
   "skip_h1_title": false,
   "title_cell": "Table of Contents",
   "title_sidebar": "Contents",
   "toc_cell": false,
   "toc_position": {},
   "toc_section_display": true,
   "toc_window_display": false
  },
  "varInspector": {
   "cols": {
    "lenName": 16,
    "lenType": 16,
    "lenVar": 40
   },
   "kernels_config": {
    "python": {
     "delete_cmd_postfix": "",
     "delete_cmd_prefix": "del ",
     "library": "var_list.py",
     "varRefreshCmd": "print(var_dic_list())"
    },
    "r": {
     "delete_cmd_postfix": ") ",
     "delete_cmd_prefix": "rm(",
     "library": "var_list.r",
     "varRefreshCmd": "cat(var_dic_list()) "
    }
   },
   "types_to_exclude": [
    "module",
    "function",
    "builtin_function_or_method",
    "instance",
    "_Feature"
   ],
   "window_display": false
  }
 },
 "nbformat": 4,
 "nbformat_minor": 2
}
