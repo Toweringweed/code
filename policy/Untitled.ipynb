{
 "cells": [
  {
   "cell_type": "code",
   "execution_count": 4,
   "metadata": {
    "ExecuteTime": {
     "end_time": "2019-01-15T09:33:28.743691Z",
     "start_time": "2019-01-15T09:33:28.737742Z"
    }
   },
   "outputs": [
    {
     "data": {
      "text/plain": [
       "[2, 3, 4, 5, 6, 7, 8, 9, 10, 11]"
      ]
     },
     "execution_count": 4,
     "metadata": {},
     "output_type": "execute_result"
    }
   ],
   "source": [
    "re_list = []\n",
    "for i in range(10):\n",
    "    ss = i + 2\n",
    "    if ss:\n",
    "        re_list.append(ss)\n",
    "re_list\n"
   ]
  },
  {
   "cell_type": "code",
   "execution_count": 9,
   "metadata": {
    "ExecuteTime": {
     "end_time": "2019-01-15T13:32:38.491884Z",
     "start_time": "2019-01-15T13:32:38.483906Z"
    }
   },
   "outputs": [
    {
     "name": "stdout",
     "output_type": "stream",
     "text": [
      "[] [('750', '', '平方')]\n"
     ]
    }
   ],
   "source": [
    "import numpy as np\n",
    "import pandas as pd\n",
    "import re\n",
    "\n",
    "pub = '共?(\\d+(\\.\\d+)?)(平方|平方米</span></span>|平米|㎡)'\n",
    "a = '计容积率67480平方米，其中住宅57130平方米（含保障性住房11426平方米），商业4000平方米[物业服务175平方米（含微型消防站40平方米）]，公共配套设施6350平方米（含公交首末站2700平方米、便民服务站400平方米、社区警务室50平方米、文化活动室1500平方米、社区健康服务1000平方米、社区老年人日间照料450平方米、社区管理250平方米、公共停车位38个）。'\n",
    "b = '社区老年人日间照料750平方米'\n",
    "\n",
    "pt1 = re.findall(re.compile('居住' + pub), a)\n",
    "pt2 = re.findall(re.compile('照料' + pub), b)\n",
    "print(pt1, pt2)"
   ]
  }
 ],
 "metadata": {
  "kernelspec": {
   "display_name": "Python 3",
   "language": "python",
   "name": "python3"
  },
  "language_info": {
   "codemirror_mode": {
    "name": "ipython",
    "version": 3
   },
   "file_extension": ".py",
   "mimetype": "text/x-python",
   "name": "python",
   "nbconvert_exporter": "python",
   "pygments_lexer": "ipython3",
   "version": "3.6.5"
  },
  "toc": {
   "base_numbering": 1,
   "nav_menu": {},
   "number_sections": true,
   "sideBar": true,
   "skip_h1_title": false,
   "title_cell": "Table of Contents",
   "title_sidebar": "Contents",
   "toc_cell": false,
   "toc_position": {},
   "toc_section_display": true,
   "toc_window_display": false
  },
  "varInspector": {
   "cols": {
    "lenName": 16,
    "lenType": 16,
    "lenVar": 40
   },
   "kernels_config": {
    "python": {
     "delete_cmd_postfix": "",
     "delete_cmd_prefix": "del ",
     "library": "var_list.py",
     "varRefreshCmd": "print(var_dic_list())"
    },
    "r": {
     "delete_cmd_postfix": ") ",
     "delete_cmd_prefix": "rm(",
     "library": "var_list.r",
     "varRefreshCmd": "cat(var_dic_list()) "
    }
   },
   "types_to_exclude": [
    "module",
    "function",
    "builtin_function_or_method",
    "instance",
    "_Feature"
   ],
   "window_display": false
  }
 },
 "nbformat": 4,
 "nbformat_minor": 2
}
