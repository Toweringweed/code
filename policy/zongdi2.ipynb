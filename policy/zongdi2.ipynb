{
 "cells": [
  {
   "cell_type": "code",
   "execution_count": 1,
   "metadata": {
    "collapsed": false
   },
   "outputs": [
    {
     "name": "stdout",
     "output_type": "stream",
     "text": [
      "['CDwindow-FA490551E905216B2F4EC1C5A6EB791F', 'CDwindow-EAF77E83A4104A26EAAB4564697D9161']\n",
      "CDwindow-EAF77E83A4104A26EAAB4564697D9161\n",
      "\n"
     ]
    }
   ],
   "source": [
    "import re\n",
    "import time\n",
    "import requests\n",
    "from lxml import etree\n",
    "from selenium import webdriver\n",
    "from selenium.webdriver.common.action_chains import ActionChains\n",
    "import numpy as np\n",
    "import pandas as pd\n",
    "\n",
    "\n",
    "browser = webdriver.Chrome(r'chromedriver.exe')\n",
    "# browser = webdriver.Ie(r'C:/Program Files/Internet Explorer/IEDriverServer.exe')\n",
    "browser.maximize_window()\n",
    "browser.get('http://www.szpl.gov/')    \n",
    "frame = browser.find_element_by_xpath('/html/body/div[2]/div[4]/div[4]/div[1]/div[2]/table/tbody/tr[1]/td/iframe')\n",
    "browser.switch_to.frame(frame)\n",
    "\n",
    "# 登陆\n",
    "\n",
    "browser.find_element_by_name('username').send_keys('weixw')\n",
    "time.sleep(1)\n",
    "browser.find_element_by_name('password').send_keys('Wei#1202')\n",
    "time.sleep(1)\n",
    "browser.find_element_by_id('btnlogin').click()\n",
    "\n",
    "all_handles = browser.window_handles\n",
    "print(all_handles)\n",
    "\n",
    "browser.switch_to.window(all_handles[-1])\n",
    "\n",
    "print(browser.current_window_handle)\n",
    "browser.implicitly_wait(10)\n",
    "\n",
    "print(browser.title)"
   ]
  },
  {
   "cell_type": "code",
   "execution_count": 2,
   "metadata": {
    "collapsed": false
   },
   "outputs": [
    {
     "name": "stdout",
     "output_type": "stream",
     "text": [
      "深圳市规划国土委电子政务平台\n",
      "地政管理\n"
     ]
    }
   ],
   "source": [
    "menu = browser.find_element_by_id('menu_10345658')\n",
    "\n",
    "action = ActionChains(browser)\n",
    "action.move_to_element(menu).perform()\n",
    "guodu = browser.find_element_by_link_text('法定图则制定')\n",
    "action.move_to_element(guodu).perform\n",
    "browser.find_element_by_link_text('地政管理').click()\n",
    "print(browser.title)\n",
    "a2 = browser.window_handles  # 获取窗口\n",
    "browser.switch_to.window(a2[-1])  # 切换到最后一个窗口\n",
    "print(browser.title)  # 打印窗口标题\n",
    "browser.find_element_by_id('td5').click()  # 点击批约管理按钮\n",
    "browser.implicitly_wait(15)\n",
    "data = []\n",
    "browser.switch_to.frame('Main')\n",
    "browser.switch_to.frame('xChildMain')\n",
    "browser.switch_to.frame('ChildMain')"
   ]
  },
  {
   "cell_type": "code",
   "execution_count": 4,
   "metadata": {
    "collapsed": true
   },
   "outputs": [],
   "source": [
    "# 向后翻页\n",
    "browser.implicitly_wait(15)\n",
    "for m in range(39):\n",
    "    ylink = browser.find_element_by_link_text('下 页')\n",
    "    if ylink:\n",
    "        ylink.click()\n",
    "        browser.implicitly_wait(15)"
   ]
  },
  {
   "cell_type": "code",
   "execution_count": 8,
   "metadata": {
    "collapsed": false
   },
   "outputs": [],
   "source": [
    "# 向前翻页\n",
    "a2 = browser.window_handles  # 获取窗口\n",
    "browser.switch_to.window(a2[-1])  # 切换到最后一个窗口\n",
    "browser.switch_to.frame('Main')\n",
    "browser.switch_to.frame('xChildMain')\n",
    "browser.switch_to.frame('ChildMain')\n",
    "browser.implicitly_wait(15)\n",
    "for m in range(40):\n",
    "    plink = browser.find_element_by_link_text('上 页')\n",
    "    if plink:\n",
    "        plink.click()\n",
    "        browser.implicitly_wait(15)"
   ]
  },
  {
   "cell_type": "code",
   "execution_count": 5,
   "metadata": {
    "collapsed": false
   },
   "outputs": [
    {
     "ename": "TimeoutException",
     "evalue": "Message: timeout\n  (Session info: chrome=70.0.3538.67)\n  (Driver info: chromedriver=70.0.3538.67 (9ab0cfab84ded083718d3a4ff830726efd38869f),platform=Windows NT 6.1.7601 SP1 x86)\n",
     "output_type": "error",
     "traceback": [
      "\u001b[0;31m---------------------------------------------------------------------------\u001b[0m",
      "\u001b[0;31mTimeoutException\u001b[0m                          Traceback (most recent call last)",
      "\u001b[0;32m<ipython-input-5-b07836076757>\u001b[0m in \u001b[0;36m<module>\u001b[0;34m()\u001b[0m\n\u001b[1;32m     37\u001b[0m                     \u001b[0mcc6\u001b[0m \u001b[1;33m=\u001b[0m \u001b[0mbrowser\u001b[0m\u001b[1;33m.\u001b[0m\u001b[0mfind_element_by_name\u001b[0m\u001b[1;33m(\u001b[0m\u001b[1;34m'OTHERS'\u001b[0m\u001b[1;33m)\u001b[0m\u001b[1;33m.\u001b[0m\u001b[0mtext\u001b[0m\u001b[1;33m\u001b[0m\u001b[0m\n\u001b[1;32m     38\u001b[0m                 \u001b[1;32melse\u001b[0m\u001b[1;33m:\u001b[0m\u001b[1;33m\u001b[0m\u001b[0m\n\u001b[0;32m---> 39\u001b[0;31m                     \u001b[0mbrowser\u001b[0m\u001b[1;33m.\u001b[0m\u001b[0mswitch_to\u001b[0m\u001b[1;33m.\u001b[0m\u001b[0mframe\u001b[0m\u001b[1;33m(\u001b[0m\u001b[1;34m'test'\u001b[0m\u001b[1;33m)\u001b[0m\u001b[1;33m\u001b[0m\u001b[0m\n\u001b[0m\u001b[1;32m     40\u001b[0m                     \u001b[0ma1\u001b[0m \u001b[1;33m=\u001b[0m \u001b[0mbrowser\u001b[0m\u001b[1;33m.\u001b[0m\u001b[0mfind_element_by_name\u001b[0m\u001b[1;33m(\u001b[0m\u001b[1;34m'LU_AREA'\u001b[0m\u001b[1;33m)\u001b[0m\u001b[1;33m.\u001b[0m\u001b[0mget_attribute\u001b[0m\u001b[1;33m(\u001b[0m\u001b[1;34m'value'\u001b[0m\u001b[1;33m)\u001b[0m\u001b[1;33m\u001b[0m\u001b[0m\n\u001b[1;32m     41\u001b[0m                     \u001b[0ma2\u001b[0m \u001b[1;33m=\u001b[0m \u001b[1;34m''\u001b[0m\u001b[1;33m\u001b[0m\u001b[0m\n",
      "\u001b[0;32mC:\\ProgramData\\Anaconda3\\envs\\py34\\lib\\site-packages\\selenium\\webdriver\\remote\\switch_to.py\u001b[0m in \u001b[0;36mframe\u001b[0;34m(self, frame_reference)\u001b[0m\n\u001b[1;32m     87\u001b[0m                     \u001b[1;32mraise\u001b[0m \u001b[0mNoSuchFrameException\u001b[0m\u001b[1;33m(\u001b[0m\u001b[0mframe_reference\u001b[0m\u001b[1;33m)\u001b[0m\u001b[1;33m\u001b[0m\u001b[0m\n\u001b[1;32m     88\u001b[0m \u001b[1;33m\u001b[0m\u001b[0m\n\u001b[0;32m---> 89\u001b[0;31m         \u001b[0mself\u001b[0m\u001b[1;33m.\u001b[0m\u001b[0m_driver\u001b[0m\u001b[1;33m.\u001b[0m\u001b[0mexecute\u001b[0m\u001b[1;33m(\u001b[0m\u001b[0mCommand\u001b[0m\u001b[1;33m.\u001b[0m\u001b[0mSWITCH_TO_FRAME\u001b[0m\u001b[1;33m,\u001b[0m \u001b[1;33m{\u001b[0m\u001b[1;34m'id'\u001b[0m\u001b[1;33m:\u001b[0m \u001b[0mframe_reference\u001b[0m\u001b[1;33m}\u001b[0m\u001b[1;33m)\u001b[0m\u001b[1;33m\u001b[0m\u001b[0m\n\u001b[0m\u001b[1;32m     90\u001b[0m \u001b[1;33m\u001b[0m\u001b[0m\n\u001b[1;32m     91\u001b[0m     \u001b[1;32mdef\u001b[0m \u001b[0mparent_frame\u001b[0m\u001b[1;33m(\u001b[0m\u001b[0mself\u001b[0m\u001b[1;33m)\u001b[0m\u001b[1;33m:\u001b[0m\u001b[1;33m\u001b[0m\u001b[0m\n",
      "\u001b[0;32mC:\\ProgramData\\Anaconda3\\envs\\py34\\lib\\site-packages\\selenium\\webdriver\\remote\\webdriver.py\u001b[0m in \u001b[0;36mexecute\u001b[0;34m(self, driver_command, params)\u001b[0m\n\u001b[1;32m    319\u001b[0m         \u001b[0mresponse\u001b[0m \u001b[1;33m=\u001b[0m \u001b[0mself\u001b[0m\u001b[1;33m.\u001b[0m\u001b[0mcommand_executor\u001b[0m\u001b[1;33m.\u001b[0m\u001b[0mexecute\u001b[0m\u001b[1;33m(\u001b[0m\u001b[0mdriver_command\u001b[0m\u001b[1;33m,\u001b[0m \u001b[0mparams\u001b[0m\u001b[1;33m)\u001b[0m\u001b[1;33m\u001b[0m\u001b[0m\n\u001b[1;32m    320\u001b[0m         \u001b[1;32mif\u001b[0m \u001b[0mresponse\u001b[0m\u001b[1;33m:\u001b[0m\u001b[1;33m\u001b[0m\u001b[0m\n\u001b[0;32m--> 321\u001b[0;31m             \u001b[0mself\u001b[0m\u001b[1;33m.\u001b[0m\u001b[0merror_handler\u001b[0m\u001b[1;33m.\u001b[0m\u001b[0mcheck_response\u001b[0m\u001b[1;33m(\u001b[0m\u001b[0mresponse\u001b[0m\u001b[1;33m)\u001b[0m\u001b[1;33m\u001b[0m\u001b[0m\n\u001b[0m\u001b[1;32m    322\u001b[0m             response['value'] = self._unwrap_value(\n\u001b[1;32m    323\u001b[0m                 response.get('value', None))\n",
      "\u001b[0;32mC:\\ProgramData\\Anaconda3\\envs\\py34\\lib\\site-packages\\selenium\\webdriver\\remote\\errorhandler.py\u001b[0m in \u001b[0;36mcheck_response\u001b[0;34m(self, response)\u001b[0m\n\u001b[1;32m    240\u001b[0m                 \u001b[0malert_text\u001b[0m \u001b[1;33m=\u001b[0m \u001b[0mvalue\u001b[0m\u001b[1;33m[\u001b[0m\u001b[1;34m'alert'\u001b[0m\u001b[1;33m]\u001b[0m\u001b[1;33m.\u001b[0m\u001b[0mget\u001b[0m\u001b[1;33m(\u001b[0m\u001b[1;34m'text'\u001b[0m\u001b[1;33m)\u001b[0m\u001b[1;33m\u001b[0m\u001b[0m\n\u001b[1;32m    241\u001b[0m             \u001b[1;32mraise\u001b[0m \u001b[0mexception_class\u001b[0m\u001b[1;33m(\u001b[0m\u001b[0mmessage\u001b[0m\u001b[1;33m,\u001b[0m \u001b[0mscreen\u001b[0m\u001b[1;33m,\u001b[0m \u001b[0mstacktrace\u001b[0m\u001b[1;33m,\u001b[0m \u001b[0malert_text\u001b[0m\u001b[1;33m)\u001b[0m\u001b[1;33m\u001b[0m\u001b[0m\n\u001b[0;32m--> 242\u001b[0;31m         \u001b[1;32mraise\u001b[0m \u001b[0mexception_class\u001b[0m\u001b[1;33m(\u001b[0m\u001b[0mmessage\u001b[0m\u001b[1;33m,\u001b[0m \u001b[0mscreen\u001b[0m\u001b[1;33m,\u001b[0m \u001b[0mstacktrace\u001b[0m\u001b[1;33m)\u001b[0m\u001b[1;33m\u001b[0m\u001b[0m\n\u001b[0m\u001b[1;32m    243\u001b[0m \u001b[1;33m\u001b[0m\u001b[0m\n\u001b[1;32m    244\u001b[0m     \u001b[1;32mdef\u001b[0m \u001b[0m_value_or_default\u001b[0m\u001b[1;33m(\u001b[0m\u001b[0mself\u001b[0m\u001b[1;33m,\u001b[0m \u001b[0mobj\u001b[0m\u001b[1;33m,\u001b[0m \u001b[0mkey\u001b[0m\u001b[1;33m,\u001b[0m \u001b[0mdefault\u001b[0m\u001b[1;33m)\u001b[0m\u001b[1;33m:\u001b[0m\u001b[1;33m\u001b[0m\u001b[0m\n",
      "\u001b[0;31mTimeoutException\u001b[0m: Message: timeout\n  (Session info: chrome=70.0.3538.67)\n  (Driver info: chromedriver=70.0.3538.67 (9ab0cfab84ded083718d3a4ff830726efd38869f),platform=Windows NT 6.1.7601 SP1 x86)\n"
     ]
    }
   ],
   "source": [
    "a2 = browser.window_handles  # 获取窗口\n",
    "browser.switch_to.window(a2[-1])  # 切换到最后一个窗口\n",
    "browser.switch_to.frame('Main')\n",
    "browser.switch_to.frame('xChildMain')\n",
    "browser.switch_to.frame('ChildMain')\n",
    "content_list = []\n",
    "browser.implicitly_wait(15)\n",
    "for j in range(2461):\n",
    "    for i in range(2,17):\n",
    "        c1 = browser.find_element_by_xpath('//table[@class=\"tableCss\"]//tr[' + str(i) +']/td[1]').text\n",
    "        c2 = browser.find_element_by_xpath('//table[@class=\"tableCss\"]//tr[' + str(i) +']/td[2]').text\n",
    "        c3 = browser.find_element_by_xpath('//table[@class=\"tableCss\"]//tr[' + str(i) +']/td[3]').text\n",
    "        c4 = browser.find_element_by_xpath('//table[@class=\"tableCss\"]//tr[' + str(i) +']/td[4]').text\n",
    "        c5 = browser.find_element_by_xpath('//table[@class=\"tableCss\"]//tr[' + str(i) +']/td[5]').text\n",
    "        c6 = browser.find_element_by_xpath('//table[@class=\"tableCss\"]//tr[' + str(i) +']/td[6]').text\n",
    "        c7 = browser.find_element_by_xpath('//table[@class=\"tableCss\"]//tr[' + str(i) +']/td[7]').text\n",
    "        c8 = browser.find_element_by_xpath('//table[@class=\"tableCss\"]//tr[' + str(i) +']/td[8]').text\n",
    "\n",
    "        jlink = browser.find_element_by_xpath('//table[@class=\"tableCss\"]//tr[' + str(i) +']/td[9]/a')\n",
    "        if jlink:\n",
    "            jlink.click()\n",
    "            browser.implicitly_wait(15)\n",
    "            browser.switch_to.window(browser.window_handles[-1])\n",
    "            browser.implicitly_wait(15)\n",
    "            if c2 != \"函\":\n",
    "                if c2 == \"划拨\":\n",
    "                    browser.switch_to.frame('test')\n",
    "                    a1 = browser.find_element_by_name('LU_AREA').get_attribute('value')\n",
    "                    a2 = a3 = a4 = a8 = a9= ''\n",
    "                    a6 = browser.find_element_by_name('OPEN_DATE').get_attribute('value')\n",
    "                    a7 = browser.find_element_by_name('COMPLETE_DATE').get_attribute('value')\n",
    "\n",
    "                    cc1 = browser.find_element_by_name('PR_AREA').text\n",
    "                    cc2 = cc4 = cc7 = ''\n",
    "                    cc3 = browser.find_element_by_name('PLOT_RATIO').get_attribute('value')\n",
    "                    cc5 = browser.find_element_by_name('PR_REMARK').get_attribute('value')\n",
    "                    cc6 = browser.find_element_by_name('OTHERS').text\n",
    "                else:\n",
    "                    browser.switch_to.frame('test')\n",
    "                    a1 = browser.find_element_by_name('LU_AREA').get_attribute('value')\n",
    "                    a2 = ''\n",
    "                    a3 = browser.find_element_by_name('LU_FUNCTION').get_attribute('value')\n",
    "                    a4 = browser.find_element_by_name('LU_TERM').get_attribute('value')\n",
    "                    a6 = browser.find_element_by_name('OPEN_DATE').get_attribute('value')\n",
    "                    a7 = browser.find_element_by_name('COMPLETE_DATE').get_attribute('value')\n",
    "                    a8 = browser.find_element_by_name('LP_LU_PROJ_NAME').get_attribute('value')\n",
    "                    a9 = browser.find_element_by_name('NO_REDLINE_REASON').get_attribute('value')\n",
    "                    browser.switch_to.default_content()\n",
    "                    browser.find_element_by_id('3Num').click()\n",
    "                    browser.implicitly_wait(15)\n",
    "                    browser.switch_to.frame('test')\n",
    "                    cc1 = browser.find_element_by_name('PR_REMARK').text    # 建筑面积说明\n",
    "                    cc2 = browser.find_element_by_name('COVERAGE').get_attribute('value')  # 建筑覆盖率\n",
    "                    cc3 = browser.find_element_by_name('PLOT_RATIO').get_attribute('value')  # 容积率\n",
    "                    cc4 = browser.find_element_by_name('BLDG_HEIGHT').get_attribute('value') # 建筑层数\n",
    "                    cc5 = browser.find_element_by_name('PR_AREA').get_attribute('value') # 建筑面积\n",
    "                    cc6 = browser.find_element_by_name('SETBACK').text # 退红线要求\n",
    "                    cc7 = browser.find_element_by_name('MAIN_BLDG').text # 主体建筑物性质\n",
    "            browser.close()\n",
    "            browser.switch_to.window(browser.window_handles[-1])\n",
    "            browser.switch_to.frame('Main')\n",
    "            browser.switch_to.frame('xChildMain')\n",
    "            browser.switch_to.frame('ChildMain')\n",
    "\n",
    "        content_list.append([c1, c2, c3, c4, c5, c6, c7, c8, a1, a2, a3, a4, a6, a7, a8,a9, cc1, cc2, cc3, cc4, cc5, cc6, cc7])\n",
    "        df = pd.DataFrame(data=content_list, columns=['合同号', '合同字号', '供应方式', '宗地代码', '宗地号','出让方名称', '土地用途', '签订日期', \n",
    "                                                      '用地面积', '土地性质', '土地用途', '使用年限', '开工日期', '竣工日期', '用地项目名称', \n",
    "                                                      '无用地方案原因',\n",
    "                                                      '建筑面积说明', '建筑覆盖率', '容积率', '建筑层数', '建筑面积', '退红线要求', '主体建筑物性质'])\n",
    "        df.to_excel(\"e:/python/all49.xlsx\")\n",
    "    ylink = browser.find_element_by_link_text('下 页')\n",
    "    if ylink:\n",
    "        ylink.click()\n"
   ]
  },
  {
   "cell_type": "code",
   "execution_count": null,
   "metadata": {
    "collapsed": true
   },
   "outputs": [],
   "source": []
  }
 ],
 "metadata": {
  "kernelspec": {
   "display_name": "Python 3",
   "language": "python",
   "name": "python3"
  },
  "language_info": {
   "codemirror_mode": {
    "name": "ipython",
    "version": 3
   },
   "file_extension": ".py",
   "mimetype": "text/x-python",
   "name": "python",
   "nbconvert_exporter": "python",
   "pygments_lexer": "ipython3",
   "version": "3.4.5"
  }
 },
 "nbformat": 4,
 "nbformat_minor": 2
}
