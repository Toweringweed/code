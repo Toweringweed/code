{
 "cells": [
  {
   "cell_type": "code",
   "execution_count": 1,
   "metadata": {
    "collapsed": false
   },
   "outputs": [
    {
     "name": "stdout",
     "output_type": "stream",
     "text": [
      "['CDwindow-DDF91B5606CAF0E35C1677B1BE6C6598', 'CDwindow-B37D6122791459259EC4FE05321F14B4']\n",
      "CDwindow-B37D6122791459259EC4FE05321F14B4\n",
      "\n"
     ]
    }
   ],
   "source": [
    "import re\n",
    "import time\n",
    "import requests\n",
    "from lxml import etree\n",
    "from selenium import webdriver\n",
    "from selenium.webdriver.common.action_chains import ActionChains\n",
    "import numpy as np\n",
    "import pandas as pd\n",
    "\n",
    "\n",
    "browser = webdriver.Chrome(r'chromedriver.exe')\n",
    "# browser = webdriver.Ie(r'C:/Program Files/Internet Explorer/IEDriverServer.exe')\n",
    "browser.maximize_window()\n",
    "browser.get('http://www.szpl.gov/')    \n",
    "frame = browser.find_element_by_xpath('/html/body/div[2]/div[4]/div[4]/div[1]/div[2]/table/tbody/tr[1]/td/iframe')\n",
    "browser.switch_to.frame(frame)\n",
    "\n",
    "# 登陆\n",
    "\n",
    "browser.find_element_by_name('username').send_keys('weixw')\n",
    "time.sleep(1)\n",
    "browser.find_element_by_name('password').send_keys('Wei#1202')\n",
    "time.sleep(1)\n",
    "browser.find_element_by_id('btnlogin').click()\n",
    "\n",
    "all_handles = browser.window_handles\n",
    "print(all_handles)\n",
    "\n",
    "browser.switch_to.window(all_handles[-1])\n",
    "\n",
    "print(browser.current_window_handle)\n",
    "browser.implicitly_wait(10)\n",
    "\n",
    "print(browser.title)"
   ]
  },
  {
   "cell_type": "code",
   "execution_count": 2,
   "metadata": {
    "collapsed": false
   },
   "outputs": [
    {
     "name": "stdout",
     "output_type": "stream",
     "text": [
      "深圳市规划国土委电子政务平台\n",
      "地政管理\n"
     ]
    }
   ],
   "source": [
    "menu = browser.find_element_by_id('menu_10345658')\n",
    "\n",
    "action = ActionChains(browser)\n",
    "action.move_to_element(menu).perform()\n",
    "guodu = browser.find_element_by_link_text('法定图则制定')\n",
    "action.move_to_element(guodu).perform\n",
    "browser.find_element_by_link_text('地政管理').click()\n",
    "print(browser.title)\n",
    "a2 = browser.window_handles  # 获取窗口\n",
    "browser.switch_to.window(a2[-1])  # 切换到最后一个窗口\n",
    "print(browser.title)  # 打印窗口标题\n",
    "browser.find_element_by_id('td5').click()  # 点击批约管理按钮\n",
    "browser.implicitly_wait(15)"
   ]
  },
  {
   "cell_type": "code",
   "execution_count": 3,
   "metadata": {
    "collapsed": true
   },
   "outputs": [],
   "source": [
    "zongdi = pd.read_excel(r'E:\\python\\宗地_new.xlsx')\n",
    "# # zongdi_2 = zongdi[zongdi['context'] != zongdi['context']]\n",
    "zongdi_list = zongdi['PARCEL_NO'].tolist()"
   ]
  },
  {
   "cell_type": "code",
   "execution_count": 5,
   "metadata": {
    "collapsed": false
   },
   "outputs": [
    {
     "name": "stdout",
     "output_type": "stream",
     "text": [
      "A924-0167\n"
     ]
    },
    {
     "name": "stderr",
     "output_type": "stream",
     "text": [
      "C:\\ProgramData\\Anaconda3\\envs\\py34\\lib\\site-packages\\ipykernel\\__main__.py:38: DeprecationWarning: use driver.switch_to.default_content instead\n"
     ]
    },
    {
     "name": "stdout",
     "output_type": "stream",
     "text": [
      "B211-0017\n"
     ]
    },
    {
     "name": "stderr",
     "output_type": "stream",
     "text": [
      "C:\\ProgramData\\Anaconda3\\envs\\py34\\lib\\site-packages\\ipykernel\\__main__.py:25: DeprecationWarning: use driver.switch_to.frame instead\n"
     ]
    },
    {
     "name": "stdout",
     "output_type": "stream",
     "text": [
      "B206-0044\n",
      "G07222-0108\n",
      "G05302-0196\n",
      "G01119-0098\n",
      "G09206-0318\n",
      "G09206-0319\n",
      "A417-1812\n",
      "G03309-0037\n",
      "A724-0038\n",
      "A724-0039\n",
      "A724-0037\n",
      "G03309-0038\n",
      "G01119-0097\n"
     ]
    }
   ],
   "source": [
    "a2 = browser.window_handles  # 获取窗口\n",
    "browser.switch_to.window(a2[-1])  # 切换到最后一个窗口\n",
    "data = []\n",
    "for i in zongdi_list:\n",
    "    print(i)\n",
    "    browser.switch_to.frame('Main')\n",
    "    browser.switch_to.frame('xChildMain')\n",
    "    browser.find_element_by_name('_PARCEL_NO1').clear()\n",
    "    browser.find_element_by_name('_PARCEL_NO1').send_keys(i)\n",
    "    browser.find_element_by_xpath('//*[@id=\"diva\"]/input[1]').click()\n",
    "    browser.implicitly_wait(15)\n",
    "    browser.switch_to.frame('ChildMain')\n",
    "    jj = browser.find_elements_by_xpath('//table[@class=\"tableCss\"]//tr[td[2][contains(text(), \"合\")]]/td[9]/a')\n",
    "#     jj2 = browser.find_elements_by_xpath('//table[@class=\"tableCss\"]//tr[td[3][contains(text(), \"划拨\")]]/td[9]/a')\n",
    "#     jj3 = browser.find_elements_by_xpath('//table[@class=\"tableCss\"]//tr[td[3][contains(text(), \"租赁\")]]/td[9]/a')\n",
    "#     jj = jj1 + jj2 + jj3\n",
    "    context_list = []\n",
    "    if jj:\n",
    "        for j in jj:\n",
    "            j.click()\n",
    "            browser.implicitly_wait(15)\n",
    "            browser.switch_to.window(browser.window_handles[-1])\n",
    "            browser.find_element_by_id('3Num').click()\n",
    "            browser.implicitly_wait(15)\n",
    "            browser.switch_to_frame('test')\n",
    "            context = browser.find_element_by_name('PR_REMARK').text    # 建筑面积说明\n",
    "            context_list.append(context)\n",
    "            browser.close()\n",
    "            browser.switch_to.window(browser.window_handles[-1])\n",
    "            browser.switch_to.frame('Main')\n",
    "            browser.switch_to.frame('xChildMain')\n",
    "            browser.switch_to.frame('ChildMain')\n",
    "        context_all = '///'.join(context_list)\n",
    "        data_i = [i, context_all]\n",
    "    else:\n",
    "        data_i = [i, '无']\n",
    "    data.append(data_i)\n",
    "    browser.switch_to_default_content()\n",
    "    df = pd.DataFrame(data=data, columns=['zongdi', 'context'])\n",
    "\n",
    "    df.to_excel(\"e:/python/ss3.xlsx\")\n",
    "# # zongdi_list = zongdi_2['PARCEL_NO'].tolist()"
   ]
  }
 ],
 "metadata": {
  "kernelspec": {
   "display_name": "Python 3",
   "language": "python",
   "name": "python3"
  },
  "language_info": {
   "codemirror_mode": {
    "name": "ipython",
    "version": 3
   },
   "file_extension": ".py",
   "mimetype": "text/x-python",
   "name": "python",
   "nbconvert_exporter": "python",
   "pygments_lexer": "ipython3",
   "version": "3.4.5"
  }
 },
 "nbformat": 4,
 "nbformat_minor": 2
}
