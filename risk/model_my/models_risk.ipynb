{
 "cells": [
  {
   "cell_type": "code",
   "execution_count": 4,
   "metadata": {},
   "outputs": [],
   "source": [
    "import pandas as pd\n",
    "import numpy as np\n",
    "from sklearn.linear_model import LogisticRegression\n",
    "from sklearn.ensemble import RandomForestClassifier\n",
    "from collections import Counter\n",
    "from sklearn import metrics\n",
    "from sklearn import model_selection as ms\n",
    "from sklearn.model_selection import train_test_split\n",
    "\n",
    "\n",
    "def set_param(model):\n",
    "    model.fit(X_train, y_train)\n",
    "    train_score = model.score(X_train, y_train)\n",
    "    test_score = model.score(X_test, y_test)\n",
    "    y_pred = model.predict(X_test)\n",
    "    f1_0 = metrics.f1_score(y_true=y_test, y_pred=y_pred, pos_label=0)\n",
    "    f1_1 = metrics.f1_score(y_true=y_test, y_pred=y_pred, pos_label=1)\n",
    "    recall_0 = metrics.recall_score(y_true=y_test, y_pred=model.predict(X_test), pos_label=0)\n",
    "    recall_1 = metrics.recall_score(y_true=y_test, y_pred=model.predict(X_test), pos_label=1)\n",
    "    return train_score, test_score, f1_1, recall_1, f1_0, recall_0\n",
    "\n",
    "\n",
    "def model_report(model):\n",
    "    print(model)\n",
    "    print( \"---------start----------\")\n",
    "    model.fit(X_train, y_train)\n",
    "    train_score = model.score(X_train, y_train)\n",
    "    test_score = model.score(X_test, y_test)\n",
    "    print(\"Train Score: \", train_score)\n",
    "    print(\"Test Score: \", test_score)\n",
    "\n",
    "    y_true = np.array(y_test)\n",
    "    y_pred = model.predict(X_test)\n",
    "    print(y_true, y_pred)\n",
    "\n",
    "    f1_0 = metrics.f1_score(y_true=y_test, y_pred=y_pred, pos_label=0)\n",
    "    print(\"Test Precision 0: \", metrics.precision_score(y_true, y_pred, pos_label=0))\n",
    "    print(\"Test Recall 0: \", metrics.recall_score(y_true=y_test, y_pred=model.predict(X_test), pos_label=0))\n",
    "    print(\"Test f1 0: \", f1_0)\n",
    "\n",
    "    print(\"Test Precision 1: \", metrics.precision_score(y_true, y_pred, pos_label=1))\n",
    "    print(\"Test Recall 1: \", metrics.recall_score(y_true=y_test, y_pred=model.predict(X_test), pos_label=1))\n",
    "    print(\"Test f1 1: \", metrics.f1_score(y_true=y_test, y_pred=y_pred, pos_label=1))\n",
    "\n",
    "    predict = model.predict(X_test)\n",
    "    probe = model.predict_proba(X_test)\n",
    "    print(\"预测结果：\", Counter(model.predict(X_test)))\n",
    "    print(\"实际结果: \", Counter(list(np.array(y_test))))\n",
    "    print(\"---------------end---------------\")\n",
    "\n",
    "\n",
    "def importance_out(model, feature_list):\n",
    "    importances = model.feature_importances_\n",
    "    indices = np.argsort(-importances)\n",
    "    cols = [feature_list[x] for x in indices]\n",
    "    out = dict(zip(cols, sorted(importances, reverse=True)))\n",
    "    print(out)\n",
    "\n",
    "def logit_coef(model, feature_list):\n",
    "    coef = model.coef_\n",
    "    coef = coef[0]\n",
    "    b = model.intercept_\n",
    "    indices = np.argsort(-coef)\n",
    "    indices = indices.tolist()\n",
    "    print(indices)\n",
    "    cols = [feature_list[x] for x in indices]\n",
    "    out = dict(zip(cols, sorted(coef, reverse=True)))\n",
    "    print(out)\n",
    "    \n",
    "\n",
    "df = pd.read_excel(r'd:\\hoomsun_data\\analysis\\models\\贡献值结果-2018-08-17 15.xlsx', sheet_name=\"woe\")\n",
    "df = df.fillna(0)\n",
    "df.head()\n",
    "df_list = pd.read_excel(r'd:\\hoomsun_data\\analysis\\models\\贡献值结果-2018-08-17 15.xlsx', sheet_name='IV汇总')\n",
    "list_var = list(df_list[df_list.IV值>=0.03]['英文'])\n",
    "\n",
    "X_train = df[df.train_test==1][list_var]\n",
    "X_test = df[df.train_test==0][list_var]\n",
    "y_train = df[df.train_test==1]['user_mark']\n",
    "y_test = df[df.train_test==0]['user_mark']\n"
   ]
  },
  {
   "cell_type": "code",
   "execution_count": 5,
   "metadata": {},
   "outputs": [
    {
     "name": "stderr",
     "output_type": "stream",
     "text": [
      "C:\\ProgramData\\Anaconda3\\lib\\site-packages\\sklearn\\model_selection\\_search.py:761: DeprecationWarning: The grid_scores_ attribute was deprecated in version 0.18 in favor of the more elaborate cv_results_ attribute. The grid_scores_ attribute will not be available from 0.20\n",
      "  DeprecationWarning)\n"
     ]
    },
    {
     "name": "stdout",
     "output_type": "stream",
     "text": [
      "RandomForestClassifier(bootstrap=True, class_weight=None, criterion='gini',\n",
      "            max_depth=None, max_features='sqrt', max_leaf_nodes=None,\n",
      "            min_impurity_decrease=0.0, min_impurity_split=None,\n",
      "            min_samples_leaf=1, min_samples_split=2,\n",
      "            min_weight_fraction_leaf=0.0, n_estimators=500, n_jobs=-1,\n",
      "            oob_score=True, random_state=5, verbose=0, warm_start=False)\n",
      "---------start----------\n",
      "Train Score:  1.0\n",
      "Test Score:  0.8023739787266841\n",
      "[1 0 0 ... 0 1 1] [1 0 0 ... 1 1 1]\n",
      "Test Precision 0:  0.6694656488549618\n",
      "Test Recall 0:  0.5081112398609502\n",
      "Test f1 0:  0.5777338603425559\n",
      "Test Precision 1:  0.8360054085377632\n",
      "Test Recall 1:  0.9090527200168032\n",
      "Test f1 1:  0.8710002012477359\n",
      "预测结果： Counter({1: 5177, 0: 1310})\n",
      "实际结果:  Counter({1: 4761, 0: 1726})\n",
      "---------------end---------------\n"
     ]
    }
   ],
   "source": [
    "# 随机森林\n",
    "\n",
    "rf_param = {'n_estimators': [50, 200, 500],\n",
    "#             'max_features': ['log2'],\n",
    "            'max_features': ['log2', 'sqrt', 'auto'],\n",
    "#             'criterion': ['entropy', 'gini'],\n",
    "#             'max_depth': [3, 5, 10],\n",
    "#             'min_samples_split': [2, 3, 5, 10, 20],\n",
    "#             'min_samples_leaf': [1, 5, 8, 15]\n",
    "            }\n",
    "model_rf = RandomForestClassifier(oob_score=True, random_state=5, n_jobs=-1)\n",
    "grid_obj = ms.GridSearchCV(model_rf, rf_param, scoring=\"roc_auc\", cv=5)\n",
    "grid_obj = grid_obj.fit(X_train, y_train)\n",
    "grid_obj.cv_results_\n",
    "grid_obj.grid_scores_\n",
    "grid_obj.best_score_\n",
    "\n",
    "model_rf = grid_obj.best_estimator_\n",
    "model_rf.fit(X_train, y_train)\n",
    "model_report(model_rf)"
   ]
  },
  {
   "cell_type": "code",
   "execution_count": 1,
   "metadata": {
    "scrolled": true
   },
   "outputs": [
    {
     "ename": "NameError",
     "evalue": "name 'np' is not defined",
     "output_type": "error",
     "traceback": [
      "\u001b[1;31m---------------------------------------------------------------------------\u001b[0m",
      "\u001b[1;31mNameError\u001b[0m                                 Traceback (most recent call last)",
      "\u001b[1;32m<ipython-input-1-efdee8ab2ec6>\u001b[0m in \u001b[0;36m<module>\u001b[1;34m()\u001b[0m\n\u001b[0;32m      3\u001b[0m \u001b[0mlasso_value_matrix\u001b[0m \u001b[1;33m=\u001b[0m \u001b[1;33m[\u001b[0m\u001b[1;33m]\u001b[0m\u001b[1;33m\u001b[0m\u001b[0m\n\u001b[0;32m      4\u001b[0m \u001b[1;32mfor\u001b[0m \u001b[0mi\u001b[0m \u001b[1;32min\u001b[0m \u001b[0mrange\u001b[0m\u001b[1;33m(\u001b[0m\u001b[1;36m0\u001b[0m\u001b[1;33m,\u001b[0m \u001b[1;36m100\u001b[0m\u001b[1;33m)\u001b[0m\u001b[1;33m:\u001b[0m\u001b[1;33m\u001b[0m\u001b[0m\n\u001b[1;32m----> 5\u001b[1;33m     \u001b[0malpha\u001b[0m \u001b[1;33m=\u001b[0m \u001b[0mnp\u001b[0m\u001b[1;33m.\u001b[0m\u001b[0mrandom\u001b[0m\u001b[1;33m.\u001b[0m\u001b[0muniform\u001b[0m\u001b[1;33m(\u001b[0m\u001b[1;36m0.01\u001b[0m\u001b[1;33m,\u001b[0m \u001b[1;36m0.2\u001b[0m\u001b[1;33m)\u001b[0m\u001b[1;33m\u001b[0m\u001b[0m\n\u001b[0m\u001b[0;32m      6\u001b[0m     \u001b[0mlasso\u001b[0m \u001b[1;33m=\u001b[0m \u001b[0mLasso\u001b[0m\u001b[1;33m(\u001b[0m\u001b[0malpha\u001b[0m\u001b[1;33m=\u001b[0m\u001b[0malpha\u001b[0m\u001b[1;33m)\u001b[0m\u001b[1;33m\u001b[0m\u001b[0m\n\u001b[0;32m      7\u001b[0m     \u001b[0mlasso\u001b[0m\u001b[1;33m.\u001b[0m\u001b[0mfit\u001b[0m\u001b[1;33m(\u001b[0m\u001b[0mX_train\u001b[0m\u001b[1;33m,\u001b[0m \u001b[0my_train\u001b[0m\u001b[1;33m)\u001b[0m\u001b[1;33m\u001b[0m\u001b[0m\n",
      "\u001b[1;31mNameError\u001b[0m: name 'np' is not defined"
     ]
    }
   ],
   "source": [
    "from sklearn.linear_model import Lasso\n",
    "\n",
    "lasso_value_matrix = []\n",
    "for i in range(0, 100):\n",
    "    alpha = np.random.uniform(0.01, 0.2)\n",
    "    lasso = Lasso(alpha=alpha)\n",
    "    lasso.fit(X_train, y_train)\n",
    "    lasso_value = list(lasso.coef_)\n",
    "    lasso_value_matrix.append(lasso_value)\n",
    "#     out = dict(zip(list_var, lasso_value))\n",
    "lasso_df = pd.DataFrame(lasso_value_matrix, columns=list_var)\n",
    "lasso_dfx = lasso_df.applymap(lambda x: 1 if np.abs(x)>0 else 0)\n",
    "lasso_sum = lasso_dfx.apply(lambda x: x.sum())\n",
    "print(lasso_sum)\n",
    "\n",
    "lasso_sum.to_csv( r\"lasso_feature.csv\")\n",
    "\n",
    "\n",
    "    "
   ]
  }
 ],
 "metadata": {
  "kernelspec": {
   "display_name": "Python 3",
   "language": "python",
   "name": "python3"
  },
  "language_info": {
   "codemirror_mode": {
    "name": "ipython",
    "version": 3
   },
   "file_extension": ".py",
   "mimetype": "text/x-python",
   "name": "python",
   "nbconvert_exporter": "python",
   "pygments_lexer": "ipython3",
   "version": "3.6.5"
  },
  "toc": {
   "base_numbering": 1,
   "nav_menu": {},
   "number_sections": true,
   "sideBar": true,
   "skip_h1_title": false,
   "title_cell": "Table of Contents",
   "title_sidebar": "Contents",
   "toc_cell": false,
   "toc_position": {},
   "toc_section_display": true,
   "toc_window_display": false
  }
 },
 "nbformat": 4,
 "nbformat_minor": 1
}
